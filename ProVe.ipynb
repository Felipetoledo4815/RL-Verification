{
 "cells": [
  {
   "cell_type": "code",
   "execution_count": 130,
   "metadata": {},
   "outputs": [],
   "source": [
    "import numpy as np"
   ]
  },
  {
   "cell_type": "code",
   "execution_count": 145,
   "metadata": {},
   "outputs": [],
   "source": [
    "### n is number of input nodes\n",
    "n = 3\n",
    "### k is index of input note we want to split\n",
    "k = 0\n",
    "### epsilon is the discretization value\n",
    "epsilon = 0.001"
   ]
  },
  {
   "cell_type": "code",
   "execution_count": 146,
   "metadata": {},
   "outputs": [],
   "source": [
    "### m is number of areas to split\n",
    "m = 1\n",
    "A_0 = np.array([\n",
    "    [2,4,10,15,20,25],\n",
    "])"
   ]
  },
  {
   "cell_type": "code",
   "execution_count": 147,
   "metadata": {},
   "outputs": [
    {
     "name": "stdout",
     "output_type": "stream",
     "text": [
      "[[1.    0.5   0.    0.    0.    0.    0.5   0.    0.    0.    0.    0.   ]\n",
      " [0.    0.499 0.    0.    0.    0.    0.501 1.    0.    0.    0.    0.   ]\n",
      " [0.    0.    1.    0.    0.    0.    0.    0.    1.    0.    0.    0.   ]\n",
      " [0.    0.    0.    1.    0.    0.    0.    0.    0.    1.    0.    0.   ]\n",
      " [0.    0.    0.    0.    1.    0.    0.    0.    0.    0.    1.    0.   ]\n",
      " [0.    0.    0.    0.    0.    1.    0.    0.    0.    0.    0.    1.   ]]\n"
     ]
    }
   ],
   "source": [
    "B_0 = np.eye(2*n)\n",
    "B_1 = np.eye(2*n)\n",
    "\n",
    "B_0[2*k][2*k+1] = 0.5\n",
    "B_0[2*k+1][2*k+1] = 0.5 - epsilon\n",
    "\n",
    "B_1[2*k][2*k] = 0.5\n",
    "B_1[2*k+1][2*k] = 0.5 + epsilon\n",
    "\n",
    "B = np.hstack((B_0, B_1))\n",
    "\n",
    "with np.printoptions(threshold=np.inf):\n",
    "    print(B)"
   ]
  },
  {
   "cell_type": "code",
   "execution_count": 148,
   "metadata": {},
   "outputs": [
    {
     "data": {
      "text/plain": [
       "array([[ 2.   ,  2.996, 10.   , 15.   , 20.   , 25.   ],\n",
       "       [ 3.004,  4.   , 10.   , 15.   , 20.   , 25.   ]])"
      ]
     },
     "execution_count": 148,
     "metadata": {},
     "output_type": "execute_result"
    }
   ],
   "source": [
    "A_1 = A_0 @ B\n",
    "A_1 = A_1.reshape((2*m,2*n))\n",
    "A_1"
   ]
  },
  {
   "cell_type": "code",
   "execution_count": 149,
   "metadata": {},
   "outputs": [],
   "source": [
    "### m is number of areas to split\n",
    "m = 2\n",
    "A_0 = np.array([\n",
    "    [ 2.   ,  2.996, 10.   , 15.   , 20.   , 25.   ],\n",
    "    [ 3.004,  4.   , 10.   , 15.   , 20.   , 25.   ]\n",
    "])"
   ]
  },
  {
   "cell_type": "code",
   "execution_count": 150,
   "metadata": {},
   "outputs": [
    {
     "data": {
      "text/plain": [
       "array([[ 2.      ,  2.495004, 10.      , 15.      , 20.      , 25.      ],\n",
       "       [ 2.500996,  2.996   , 10.      , 15.      , 20.      , 25.      ],\n",
       "       [ 3.004   ,  3.498   , 10.      , 15.      , 20.      , 25.      ],\n",
       "       [ 3.506   ,  4.      , 10.      , 15.      , 20.      , 25.      ]])"
      ]
     },
     "execution_count": 150,
     "metadata": {},
     "output_type": "execute_result"
    }
   ],
   "source": [
    "A_1 = A_0 @ B\n",
    "A_1 = A_1.reshape((2*m,2*n))\n",
    "A_1"
   ]
  },
  {
   "cell_type": "code",
   "execution_count": null,
   "metadata": {},
   "outputs": [],
   "source": []
  }
 ],
 "metadata": {
  "kernelspec": {
   "display_name": "Python 3.9.7 ('ai')",
   "language": "python",
   "name": "python3"
  },
  "language_info": {
   "codemirror_mode": {
    "name": "ipython",
    "version": 3
   },
   "file_extension": ".py",
   "mimetype": "text/x-python",
   "name": "python",
   "nbconvert_exporter": "python",
   "pygments_lexer": "ipython3",
   "version": "3.9.7"
  },
  "orig_nbformat": 4,
  "vscode": {
   "interpreter": {
    "hash": "e796595cb3cf9aba55a1014d61f218ee9123e5239bd4929f8741ee330fe0ad6f"
   }
  }
 },
 "nbformat": 4,
 "nbformat_minor": 2
}
