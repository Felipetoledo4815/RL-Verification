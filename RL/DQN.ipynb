{
 "cells": [
  {
   "cell_type": "code",
   "execution_count": 1,
   "id": "affiliated-sensitivity",
   "metadata": {},
   "outputs": [],
   "source": [
    "import gym\n",
    "import numpy as np\n",
    "import matplotlib.pyplot as plt\n",
    "import random\n",
    "import math\n",
    "import tensorflow as tf\n",
    "import keras\n",
    "import subprocess\n",
    "import tf2onnx\n",
    "import onnxruntime as rt\n",
    "\n",
    "from collections import deque\n",
    "from tqdm import tqdm\n",
    "from tensorflow.keras import Sequential\n",
    "from tensorflow.keras.layers import Dense\n",
    "from tensorflow.keras.optimizers import RMSprop"
   ]
  },
  {
   "cell_type": "markdown",
   "id": "791c2a60",
   "metadata": {},
   "source": [
    "# Aknowledgements\n",
    "Implementation based on code by Maciej Balawejder\n",
    "\n",
    "[[Medium post](https://medium.com/analytics-vidhya/solving-open-ais-cartpole-using-reinforcement-learning-part-2-73848cbda4f1)]\n",
    "\n",
    "[[Github](https://github.com/maciejbalawejder/Reinforcement-Learning-Collection/tree/main/DQN)]"
   ]
  },
  {
   "cell_type": "markdown",
   "id": "ccd5c710",
   "metadata": {},
   "source": [
    "# Classes"
   ]
  },
  {
   "cell_type": "code",
   "execution_count": 2,
   "id": "voluntary-establishment",
   "metadata": {},
   "outputs": [],
   "source": [
    "class Model:\n",
    "    def __init__(self, input_dim, output_dim, lr):\n",
    "        self.input_dim = input_dim\n",
    "        self.output_dim = output_dim\n",
    "        self.lr = lr\n",
    "        self.Qpolicy = self.create()\n",
    "        self.Qtarget = self.create()\n",
    "        self.Qtarget.set_weights(self.Qpolicy.get_weights())\n",
    "\n",
    "    def create(self):\n",
    "        model = Sequential()\n",
    "        model.add(Dense(512, input_dim=self.input_dim, activation='relu'))\n",
    "        model.add(Dense(256, activation='relu'))\n",
    "        model.add(Dense(128, activation='relu'))\n",
    "        model.add(Dense(self.output_dim, activation='linear'))\n",
    "        model.compile(optimizer=RMSprop(lr=self.lr, rho=0.95,\n",
    "                      epsilon=0.01), loss=\"mse\", metrics=['accuracy'])\n",
    "        return model\n",
    "\n",
    "\n",
    "class DQNAgent:\n",
    "    def __init__(self, lr=2.5e-4, gamma=0.99, epsilon=1, decay_coe=0.99975, min_eps=0.001,\n",
    "                 batch_size=64, memory_size=10_000, episodes=5_000, C=5):\n",
    "\n",
    "        self.env = gym.make('CartPole-v0')\n",
    "\n",
    "        self.states = len(self.env.observation_space.low)\n",
    "        self.n_actions = self.env.action_space.n\n",
    "\n",
    "        self.actions = [i for i in range(self.n_actions)]\n",
    "\n",
    "        self.lr = lr\n",
    "        self.gamma = gamma\n",
    "        self.epsilon = epsilon\n",
    "        self.decay_coe = decay_coe\n",
    "        self.min_eps = min_eps\n",
    "        self.episodes = episodes\n",
    "        self.batch_size = batch_size\n",
    "        self.D = deque(maxlen=memory_size)  # replay memory\n",
    "        self.C = C\n",
    "\n",
    "        self.terminal_state = False  # end of the episode\n",
    "        self.target_counter = 0\n",
    "\n",
    "        # Plot data\n",
    "        self.timestep = self.episodes / 10\n",
    "        self.history = []\n",
    "        self.reward_data = []\n",
    "        self.epsilon_data = []\n",
    "\n",
    "        self.model = Model(self.states, self.n_actions, self.lr)\n",
    "        # Smooth epsilon\n",
    "        self.a = 0.35\n",
    "        self.b = 0.1\n",
    "        self.c = 0.01\n",
    "\n",
    "    def state_shape(self, states):\n",
    "        states = np.array(states)\n",
    "        return states.reshape(-1, *states.shape)\n",
    "\n",
    "    def decrement_epsilon(self, time):\n",
    "        '''\n",
    "        if self.epsilon > self.min_eps:\n",
    "            self.epsilon *= self.decay_coe\n",
    "        else:\n",
    "            self.epsilon = self.min_eps\n",
    "        '''\n",
    "        s_time = (time - self.a*self.episodes) / (self.b*self.episodes)\n",
    "        cosh = np.cosh(math.exp(-s_time))\n",
    "        self.epsilon = 1 - (1/cosh + (time*self.c/self.episodes))\n",
    "\n",
    "    def update_D(self, s, a, r, s_, done):\n",
    "        self.D.append([self.state_shape(s), a, r, self.state_shape(s_), done])\n",
    "\n",
    "    def choose_action(self, states):\n",
    "        if np.random.random() > (1 - self.epsilon):\n",
    "            action = np.random.choice(self.actions)\n",
    "        else:\n",
    "            states = self.state_shape(states)\n",
    "            action = np.argmax(self.model.Qpolicy.predict(states))\n",
    "\n",
    "        return action\n",
    "\n",
    "    def minibatch(self):\n",
    "        return random.sample(self.D, self.batch_size)\n",
    "\n",
    "    def graphs(self, episode):\n",
    "        f1 = plt.figure(1)\n",
    "        plt.plot([i for i in range(len(self.reward_data))], self.reward_data)\n",
    "        plt.ylabel('Score per episode')\n",
    "        plt.xlabel('Episodes')\n",
    "        plt.savefig(r'./training/reward - e{}v2.png'.format(episode), dpi=500)\n",
    "\n",
    "        f2 = plt.figure(2)\n",
    "        plt.plot([i for i in range(len(self.epsilon_data))], self.epsilon_data)\n",
    "        plt.ylabel('Epsilon')\n",
    "        plt.xlabel('Episodes')\n",
    "        plt.savefig(r'./training/epsilon - e{}v2.png'.format(episode), dpi=500)\n",
    "\n",
    "        f3 = plt.figure(3)\n",
    "        plt.plot([i for i in range(len(self.history))], self.history)\n",
    "        plt.ylabel('Loss')\n",
    "        plt.xlabel('Iterations')\n",
    "        plt.savefig(r'./training/loss - e{}v2.png'.format(episode), dpi=500)\n",
    "\n",
    "    def train(self):\n",
    "        ### Creates 'training' directory if it doesn't exist\n",
    "        subprocess.run(['mkdir', '-p', './training/'])\n",
    "\n",
    "        # X - states passed to the NN, y - target\n",
    "\n",
    "        X, y = [], []\n",
    "\n",
    "        if len(self.D) >= self.batch_size:\n",
    "            SARS = self.minibatch()\n",
    "\n",
    "            s = self.state_shape([row[0] for row in SARS])\n",
    "            qvalue = self.model.Qpolicy.predict(s)[0]\n",
    "\n",
    "            s_ = self.state_shape([row[3] for row in SARS])\n",
    "            future_qvalue = self.model.Qtarget.predict(s_)[0]\n",
    "\n",
    "            for index, (state, action, reward, state_, done) in enumerate(SARS):\n",
    "                if done == True:\n",
    "                    Qtarget = reward\n",
    "                else:\n",
    "                    Qtarget = reward + self.gamma * \\\n",
    "                        np.max(future_qvalue[index])\n",
    "\n",
    "                qcurr = qvalue[index][0]\n",
    "                qcurr[action] = Qtarget\n",
    "                X.append(state)\n",
    "                y.append(qcurr)\n",
    "\n",
    "            X, y = np.array(X).reshape(1, self.batch_size, 1, self.states), np.array(\n",
    "                y).reshape(1, self.batch_size, 1, self.n_actions)\n",
    "\n",
    "            loss = self.model.Qpolicy.fit(\n",
    "                X, y, batch_size=self.batch_size, shuffle=False, verbose=0)\n",
    "            self.history.append(loss.history['loss'][0])\n",
    "\n",
    "            if self.terminal_state:\n",
    "                self.target_counter += 1\n",
    "\n",
    "            # C -> target network update frequency\n",
    "            if self.target_counter > self.C:\n",
    "                self.model.Qtarget.set_weights(\n",
    "                    self.model.Qpolicy.get_weights())\n",
    "                self.target_counter = 0\n",
    "\n",
    "    def training(self):\n",
    "        timestep_reward = 0\n",
    "\n",
    "        for episode in tqdm(range(1, self.episodes+1), ascii=True, unit='episode'):\n",
    "            s = self.env.reset()\n",
    "            done = False\n",
    "            score = 0\n",
    "            while done != True:\n",
    "                a = self.choose_action(s)\n",
    "\n",
    "                s_, r, done, _ = self.env.step(a)\n",
    "\n",
    "                # Update\n",
    "                self.terminal_state = done\n",
    "                self.update_D(s, a, r, s_, done)\n",
    "\n",
    "                self.train()\n",
    "\n",
    "                s = s_\n",
    "                score += r\n",
    "\n",
    "            self.decrement_epsilon(episode)\n",
    "\n",
    "            # UPDATE\n",
    "            self.reward_data.append(score)\n",
    "            self.epsilon_data.append(self.epsilon)\n",
    "\n",
    "            if episode % self.timestep == 0:\n",
    "                self.graphs(episode)\n",
    "\n",
    "        self.graphs(episode)\n",
    "        self.model.Qpolicy.save('./training/saved_qpolicy.h5')\n"
   ]
  },
  {
   "cell_type": "markdown",
   "id": "513ed4e2",
   "metadata": {},
   "source": [
    "# Functions"
   ]
  },
  {
   "cell_type": "code",
   "execution_count": 3,
   "id": "73bc2661",
   "metadata": {},
   "outputs": [],
   "source": [
    "def test(model_name, test_episodes=100, savefig=False):\n",
    "    model = tf.keras.models.load_model('{}'.format(model_name))\n",
    "    reward = []\n",
    "    env = gym.make('CartPole-v0')\n",
    "    for i in tqdm(range(test_episodes)):\n",
    "        ep_reward = 0\n",
    "        s = env.reset()\n",
    "        done = False\n",
    "\n",
    "        while done != True:\n",
    "            env.render()\n",
    "            a = np.argmax(model.predict(np.array([s])))\n",
    "            s_, r, done, _ = env.step(a)\n",
    "            s = s_\n",
    "            ep_reward += r\n",
    "        reward.append(ep_reward)\n",
    "\n",
    "    env.close()\n",
    "    plt.plot([i for i in range(len(reward))], reward)\n",
    "    plt.xlabel('Episodes')\n",
    "    plt.ylabel('Episode reward')\n",
    "    if savefig:\n",
    "        plt.savefig(r'./training/Test.png')"
   ]
  },
  {
   "cell_type": "markdown",
   "id": "50bd5e2e",
   "metadata": {},
   "source": [
    "# Training"
   ]
  },
  {
   "cell_type": "code",
   "execution_count": 8,
   "id": "transparent-family",
   "metadata": {},
   "outputs": [],
   "source": [
    "dqn = DQNAgent(episodes = 1_000)"
   ]
  },
  {
   "cell_type": "code",
   "execution_count": null,
   "id": "unlike-going",
   "metadata": {
    "scrolled": true
   },
   "outputs": [],
   "source": [
    "# Train model and automatically saves it after it finish\n",
    "dqn.training()\n",
    "\n",
    "# Test model\n",
    "test('./training/saved_qpolicy.h5', 10, savefig=True)"
   ]
  },
  {
   "cell_type": "markdown",
   "id": "81cf3145",
   "metadata": {},
   "source": [
    "# Load model"
   ]
  },
  {
   "cell_type": "code",
   "execution_count": 15,
   "id": "752b5b7b",
   "metadata": {},
   "outputs": [],
   "source": [
    "saved_model = keras.models.load_model('policy_network.h5')"
   ]
  },
  {
   "cell_type": "code",
   "execution_count": 16,
   "id": "80dfd91a",
   "metadata": {},
   "outputs": [
    {
     "name": "stdout",
     "output_type": "stream",
     "text": [
      "Model: \"sequential_97\"\n",
      "_________________________________________________________________\n",
      " Layer (type)                Output Shape              Param #   \n",
      "=================================================================\n",
      " dense_325 (Dense)           (None, 512)               2560      \n",
      "                                                                 \n",
      " dense_326 (Dense)           (None, 256)               131328    \n",
      "                                                                 \n",
      " dense_327 (Dense)           (None, 128)               32896     \n",
      "                                                                 \n",
      " dense_328 (Dense)           (None, 2)                 258       \n",
      "                                                                 \n",
      "=================================================================\n",
      "Total params: 167,042\n",
      "Trainable params: 167,042\n",
      "Non-trainable params: 0\n",
      "_________________________________________________________________\n"
     ]
    }
   ],
   "source": [
    "saved_model.summary()"
   ]
  },
  {
   "cell_type": "code",
   "execution_count": 4,
   "id": "c6a98d86",
   "metadata": {},
   "outputs": [
    {
     "name": "stderr",
     "output_type": "stream",
     "text": [
      "100%|██████████| 10/10 [03:48<00:00, 22.84s/it]\n"
     ]
    },
    {
     "data": {
      "image/png": "[encoded data removed]",
      "text/plain": [
       "<Figure size 640x480 with 1 Axes>"
      ]
     },
     "metadata": {},
     "output_type": "display_data"
    }
   ],
   "source": [
    "test('policy_network.h5', 10)"
   ]
  },
  {
   "cell_type": "markdown",
   "id": "4a448348",
   "metadata": {},
   "source": [
    "# Save in onnx"
   ]
  },
  {
   "cell_type": "code",
   "execution_count": 57,
   "id": "865fde5e",
   "metadata": {},
   "outputs": [],
   "source": [
    "spec = (tf.TensorSpec((None, 4), tf.float32, name=\"input\"),)\n",
    "output_path = \"policy_network.onnx\"\n",
    "\n",
    "model_proto, _ = tf2onnx.convert.from_keras(saved_model, input_signature=spec, opset=13, output_path=output_path)\n",
    "output_names = [n.name for n in model_proto.graph.output]"
   ]
  },
  {
   "cell_type": "markdown",
   "id": "9a8fceef",
   "metadata": {},
   "source": [
    "# Load onnx model"
   ]
  },
  {
   "cell_type": "code",
   "execution_count": 31,
   "id": "d8eb7dd7",
   "metadata": {},
   "outputs": [
    {
     "name": "stdout",
     "output_type": "stream",
     "text": [
      "TF Prediction: 1\n",
      "ONNX Prediction: 1\n"
     ]
    }
   ],
   "source": [
    "env = gym.make('CartPole-v0')\n",
    "x = np.array([env.reset().astype(np.float32)])\n",
    "\n",
    "providers = ['CPUExecutionProvider']\n",
    "m = rt.InferenceSession(\"policy_network.onnx\", providers=providers)\n",
    "onnx_pred = m.run(None, {\"input\": x})\n",
    "\n",
    "tf_pred = saved_model.predict(x)\n",
    "\n",
    "print('TF Prediction:', np.argmax(tf_pred))\n",
    "print('ONNX Prediction:', np.argmax(onnx_pred[0]))\n",
    "\n",
    "### Make sure ONNX and keras have the same results\n",
    "np.testing.assert_allclose(tf_pred, onnx_pred[0], rtol=1e-5)"
   ]
  }
 ],
 "metadata": {
  "kernelspec": {
   "display_name": "Python 3.7.0 ('new_RL')",
   "language": "python",
   "name": "python3"
  },
  "language_info": {
   "codemirror_mode": {
    "name": "ipython",
    "version": 3
   },
   "file_extension": ".py",
   "mimetype": "text/x-python",
   "name": "python",
   "nbconvert_exporter": "python",
   "pygments_lexer": "ipython3",
   "version": "3.7.13"
  },
  "vscode": {
   "interpreter": {
    "hash": "0cd16766927c4ac038f103e7669a6de8df9c42aceb61c064dc55d37fda4818ec"
   }
  }
 },
 "nbformat": 4,
 "nbformat_minor": 5
}
