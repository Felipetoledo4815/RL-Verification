{
 "cells": [
  {
   "cell_type": "code",
   "execution_count": 1,
   "metadata": {},
   "outputs": [],
   "source": [
    "from MyCartPole import CartPoleEnv\n",
    "import numpy as np\n",
    "import keras"
   ]
  },
  {
   "cell_type": "code",
   "execution_count": 9,
   "metadata": {},
   "outputs": [],
   "source": [
    "saved_model = keras.models.load_model('../RL/policy_network.h5')"
   ]
  },
  {
   "cell_type": "code",
   "execution_count": 10,
   "metadata": {},
   "outputs": [
    {
     "name": "stdout",
     "output_type": "stream",
     "text": [
      "THIS IS MY CARTPOLE\n"
     ]
    },
    {
     "name": "stderr",
     "output_type": "stream",
     "text": [
      "/home/felipe/miniconda3/envs/RL/lib/python3.7/site-packages/gym/logger.py:30: UserWarning: \u001b[33mWARN: Box bound precision lowered by casting to float32\u001b[0m\n",
      "  warnings.warn(colorize('%s: %s'%('WARN', msg % args), 'yellow'))\n"
     ]
    },
    {
     "data": {
      "text/plain": [
       "array([ 0. , -1. , -0.1, -0.1])"
      ]
     },
     "execution_count": 10,
     "metadata": {},
     "output_type": "execute_result"
    }
   ],
   "source": [
    "env = CartPoleEnv()\n",
    "env.reset([0, -1, -0.1, -0.1])"
   ]
  },
  {
   "cell_type": "code",
   "execution_count": 12,
   "metadata": {},
   "outputs": [
    {
     "name": "stdout",
     "output_type": "stream",
     "text": [
      "THIS IS MY CARTPOLE\n",
      "1\n",
      "0\n"
     ]
    }
   ],
   "source": [
    "state = env.reset([-0.00207971, -0.03124355,  0.02901591,  0.04065558])\n",
    "print(np.argmax(saved_model.predict(state.reshape(1,4))))\n",
    "ce = np.array([100.000000000000, -0.03124355, 0.02901591, 0.04065558])\n",
    "print(np.argmax(saved_model.predict(ce.reshape(1,4))))"
   ]
  },
  {
   "cell_type": "code",
   "execution_count": 34,
   "metadata": {},
   "outputs": [
    {
     "name": "stdout",
     "output_type": "stream",
     "text": [
      "THIS IS MY CARTPOLE\n",
      "C_vel: -1 | Angle: 0.0 | P_vel: 0 | Action: 1\n",
      "C_vel: -0.8 | Angle: 0.0 | P_vel: -0.29 | Action: 0\n",
      "C_vel: -1.0 | Angle: -0.34 | P_vel: 0.0 | Action: 1\n",
      "C_vel: -0.8 | Angle: -0.34 | P_vel: -0.29 | Action: 0\n",
      "C_vel: -1.0 | Angle: -0.67 | P_vel: -0.0 | Action: 1\n",
      "C_vel: -0.8 | Angle: -0.68 | P_vel: -0.3 | Action: 0\n",
      "C_vel: -1.0 | Angle: -1.02 | P_vel: -0.01 | Action: 1\n",
      "C_vel: -0.8 | Angle: -1.03 | P_vel: -0.31 | Action: 0\n",
      "C_vel: -1.0 | Angle: -1.39 | P_vel: -0.02 | Action: 0\n",
      "C_vel: -1.19 | Angle: -1.41 | P_vel: 0.26 | Action: 1\n",
      "C_vel: -1.0 | Angle: -1.11 | P_vel: -0.04 | Action: 0\n",
      "C_vel: -1.19 | Angle: -1.16 | P_vel: 0.25 | Action: 1\n",
      "C_vel: -1.0 | Angle: -0.87 | P_vel: -0.05 | Action: 0\n",
      "C_vel: -1.19 | Angle: -0.93 | P_vel: 0.24 | Action: 1\n",
      "C_vel: -1.0 | Angle: -0.66 | P_vel: -0.06 | Action: 0\n",
      "C_vel: -1.19 | Angle: -0.73 | P_vel: 0.23 | Action: 1\n",
      "C_vel: -1.0 | Angle: -0.46 | P_vel: -0.07 | Action: 0\n",
      "C_vel: -1.19 | Angle: -0.54 | P_vel: 0.22 | Action: 1\n",
      "C_vel: -1.0 | Angle: -0.29 | P_vel: -0.07 | Action: 0\n",
      "C_vel: -1.19 | Angle: -0.37 | P_vel: 0.22 | Action: 1\n",
      "C_vel: -1.0 | Angle: -0.12 | P_vel: -0.08 | Action: 0\n",
      "C_vel: -1.19 | Angle: -0.21 | P_vel: 0.21 | Action: 0\n",
      "C_vel: -1.39 | Angle: 0.04 | P_vel: 0.51 | Action: 1\n",
      "C_vel: -1.19 | Angle: 0.62 | P_vel: 0.21 | Action: 1\n",
      "C_vel: -1.0 | Angle: 0.86 | P_vel: -0.08 | Action: 0\n",
      "C_vel: -1.19 | Angle: 0.78 | P_vel: 0.22 | Action: 0\n",
      "C_vel: -1.39 | Angle: 1.03 | P_vel: 0.52 | Action: 1\n",
      "C_vel: -1.19 | Angle: 1.63 | P_vel: 0.23 | Action: 0\n",
      "C_vel: -1.39 | Angle: 1.89 | P_vel: 0.53 | Action: 0\n",
      "C_vel: -1.58 | Angle: 2.5 | P_vel: 0.84 | Action: 1\n",
      "C_vel: -1.39 | Angle: 3.46 | P_vel: 0.56 | Action: 1\n",
      "C_vel: -1.19 | Angle: 4.1 | P_vel: 0.28 | Action: 0\n",
      "C_vel: -1.39 | Angle: 4.43 | P_vel: 0.6 | Action: 1\n",
      "C_vel: -1.2 | Angle: 5.11 | P_vel: 0.33 | Action: 0\n",
      "C_vel: -1.39 | Angle: 5.49 | P_vel: 0.65 | Action: 1\n",
      "C_vel: -1.2 | Angle: 6.24 | P_vel: 0.39 | Action: 1\n",
      "C_vel: -1.01 | Angle: 6.69 | P_vel: 0.13 | Action: 0\n",
      "C_vel: -1.2 | Angle: 6.84 | P_vel: 0.46 | Action: 1\n",
      "C_vel: -1.01 | Angle: 7.37 | P_vel: 0.21 | Action: 0\n",
      "C_vel: -1.21 | Angle: 7.61 | P_vel: 0.54 | Action: 1\n",
      "C_vel: -1.01 | Angle: 8.22 | P_vel: 0.29 | Action: 1\n",
      "C_vel: -0.82 | Angle: 8.56 | P_vel: 0.05 | Action: 1\n",
      "C_vel: -0.63 | Angle: 8.61 | P_vel: -0.2 | Action: 1\n",
      "C_vel: -0.43 | Angle: 8.38 | P_vel: -0.44 | Action: 1\n",
      "C_vel: -0.24 | Angle: 7.88 | P_vel: -0.68 | Action: 0\n",
      "C_vel: -0.44 | Angle: 7.1 | P_vel: -0.35 | Action: 1\n",
      "C_vel: -0.25 | Angle: 6.7 | P_vel: -0.6 | Action: 1\n",
      "C_vel: -0.05 | Angle: 6.02 | P_vel: -0.85 | Action: 0\n",
      "C_vel: -0.25 | Angle: 5.04 | P_vel: -0.53 | Action: 1\n",
      "C_vel: -0.05 | Angle: 4.43 | P_vel: -0.79 | Action: 0\n",
      "C_vel: -0.25 | Angle: 3.52 | P_vel: -0.48 | Action: 0\n",
      "C_vel: -0.45 | Angle: 2.98 | P_vel: -0.17 | Action: 0\n",
      "C_vel: -0.64 | Angle: 2.79 | P_vel: 0.14 | Action: 0\n",
      "C_vel: -0.84 | Angle: 2.95 | P_vel: 0.45 | Action: 0\n",
      "C_vel: -1.03 | Angle: 3.47 | P_vel: 0.76 | Action: 1\n",
      "C_vel: -0.84 | Angle: 4.34 | P_vel: 0.49 | Action: 0\n",
      "C_vel: -1.04 | Angle: 4.89 | P_vel: 0.8 | Action: 1\n",
      "C_vel: -0.84 | Angle: 5.81 | P_vel: 0.54 | Action: 0\n",
      "C_vel: -1.04 | Angle: 6.43 | P_vel: 0.86 | Action: 1\n",
      "C_vel: -0.85 | Angle: 7.41 | P_vel: 0.6 | Action: 1\n",
      "C_vel: -0.65 | Angle: 8.1 | P_vel: 0.35 | Action: 1\n",
      "C_vel: -0.46 | Angle: 8.51 | P_vel: 0.11 | Action: 0\n",
      "C_vel: -0.66 | Angle: 8.64 | P_vel: 0.45 | Action: 1\n",
      "C_vel: -0.46 | Angle: 9.15 | P_vel: 0.2 | Action: 0\n",
      "C_vel: -0.66 | Angle: 9.38 | P_vel: 0.54 | Action: 1\n",
      "C_vel: -0.47 | Angle: 10.0 | P_vel: 0.31 | Action: 1\n",
      "C_vel: -0.28 | Angle: 10.35 | P_vel: 0.07 | Action: 1\n",
      "C_vel: -0.08 | Angle: 10.44 | P_vel: -0.16 | Action: 1\n",
      "C_vel: 0.11 | Angle: 10.26 | P_vel: -0.39 | Action: 1\n",
      "C_vel: 0.3 | Angle: 9.81 | P_vel: -0.62 | Action: 1\n",
      "C_vel: 0.49 | Angle: 9.1 | P_vel: -0.85 | Action: 1\n",
      "C_vel: 0.69 | Angle: 8.12 | P_vel: -1.09 | Action: 1\n",
      "C_vel: 0.88 | Angle: 6.87 | P_vel: -1.34 | Action: 0\n",
      "C_vel: 0.68 | Angle: 5.34 | P_vel: -1.01 | Action: 1\n",
      "C_vel: 0.88 | Angle: 4.18 | P_vel: -1.27 | Action: 0\n",
      "C_vel: 0.68 | Angle: 2.72 | P_vel: -0.96 | Action: 1\n",
      "C_vel: 0.87 | Angle: 1.63 | P_vel: -1.23 | Action: 0\n",
      "C_vel: 0.68 | Angle: 0.21 | P_vel: -0.93 | Action: 1\n",
      "C_vel: 0.87 | Angle: -0.86 | P_vel: -1.22 | Action: 0\n",
      "C_vel: 0.68 | Angle: -2.26 | P_vel: -0.94 | Action: 0\n",
      "C_vel: 0.48 | Angle: -3.34 | P_vel: -0.66 | Action: 0\n",
      "C_vel: 0.29 | Angle: -4.09 | P_vel: -0.38 | Action: 1\n",
      "C_vel: 0.49 | Angle: -4.53 | P_vel: -0.7 | Action: 0\n",
      "C_vel: 0.29 | Angle: -5.33 | P_vel: -0.43 | Action: 0\n",
      "C_vel: 0.1 | Angle: -5.82 | P_vel: -0.17 | Action: 1\n",
      "C_vel: 0.3 | Angle: -6.01 | P_vel: -0.49 | Action: 0\n",
      "C_vel: 0.1 | Angle: -6.58 | P_vel: -0.23 | Action: 0\n",
      "C_vel: -0.09 | Angle: -6.84 | P_vel: 0.02 | Action: 0\n",
      "C_vel: -0.28 | Angle: -6.82 | P_vel: 0.27 | Action: 0\n",
      "C_vel: -0.48 | Angle: -6.51 | P_vel: 0.53 | Action: 0\n",
      "C_vel: -0.67 | Angle: -5.9 | P_vel: 0.78 | Action: 0\n",
      "C_vel: -0.87 | Angle: -5.01 | P_vel: 1.04 | Action: 0\n",
      "C_vel: -1.06 | Angle: -3.82 | P_vel: 1.3 | Action: 0\n",
      "C_vel: -1.25 | Angle: -2.32 | P_vel: 1.57 | Action: 1\n",
      "C_vel: -1.06 | Angle: -0.52 | P_vel: 1.27 | Action: 1\n",
      "C_vel: -0.86 | Angle: 0.94 | P_vel: 0.97 | Action: 1\n",
      "C_vel: -0.67 | Angle: 2.05 | P_vel: 0.69 | Action: 0\n",
      "C_vel: -0.86 | Angle: 2.84 | P_vel: 0.99 | Action: 1\n",
      "C_vel: -0.67 | Angle: 3.98 | P_vel: 0.71 | Action: 0\n",
      "C_vel: -0.86 | Angle: 4.79 | P_vel: 1.03 | Action: 1\n",
      "Episode:1 Score:100.0\n"
     ]
    }
   ],
   "source": [
    "episodes = 1\n",
    "for episode in range(1, episodes+1):\n",
    "    # state = env.reset()\n",
    "    # state = env.reset([0, 1, 0.2, 0.2])\n",
    "    # state = env.reset([0.000000000000, -5.000000000000, -0.250000000000, -5.000000000000 ])\n",
    "    # state = env.reset([0.000000000000, 0.000000000000, -0.300000011921, 0.000000000000 ])\n",
    "    state = env.reset([0, -1,  0,  0])\n",
    "    done = False\n",
    "    score = 0 \n",
    "    \n",
    "    for i in range(100):\n",
    "    # while not done:\n",
    "        env.render()\n",
    "        # if i < 5:\n",
    "        #     action = 1\n",
    "        # else:\n",
    "            # action = random.choice([0,1])\n",
    "        action = np.argmax(saved_model.predict(state.reshape(1,4)))\n",
    "        # print(f\"Angle: {state[2]} | Action: {action}\")\n",
    "        print(f\"C_vel: {round(state[1],2)} | Angle: {round(np.rad2deg(state[2]),2)} | P_vel: {round(state[3],2)} | Action: {action}\")\n",
    "        state, reward, done, info = env.step(action)\n",
    "        score+=reward\n",
    "    print('Episode:{} Score:{}'.format(episode, score))"
   ]
  },
  {
   "cell_type": "code",
   "execution_count": null,
   "metadata": {},
   "outputs": [],
   "source": [
    "s = env.reset()\n",
    "s"
   ]
  },
  {
   "cell_type": "code",
   "execution_count": 17,
   "metadata": {},
   "outputs": [],
   "source": [
    "env.close()"
   ]
  },
  {
   "cell_type": "code",
   "execution_count": null,
   "metadata": {},
   "outputs": [],
   "source": []
  }
 ],
 "metadata": {
  "kernelspec": {
   "display_name": "Python 3.7.0 ('RL')",
   "language": "python",
   "name": "python3"
  },
  "language_info": {
   "codemirror_mode": {
    "name": "ipython",
    "version": 3
   },
   "file_extension": ".py",
   "mimetype": "text/x-python",
   "name": "python",
   "nbconvert_exporter": "python",
   "pygments_lexer": "ipython3",
   "version": "3.7.0"
  },
  "orig_nbformat": 4,
  "vscode": {
   "interpreter": {
    "hash": "04d49c552509a807435b1a29c06187d9cd223a4503191998fa194e983bbbfa35"
   }
  }
 },
 "nbformat": 4,
 "nbformat_minor": 2
}
